{
 "cells": [
  {
   "cell_type": "markdown",
   "metadata": {},
   "source": [
    "## [Computational Social Science] Project 5: Natural Language Processing"
   ]
  },
  {
   "cell_type": "markdown",
   "metadata": {},
   "source": [
    "In this project, you will use natural language processing techniques to explore a dataset containing tweets from members of the 116th United States Congress that met from January 3, 2019 to January 2, 2021. The dataset has also been cleaned to contain information about each legislator. Concretely, you will do the following:\n",
    "\n",
    "* Preprocess the text of legislators' tweets\n",
    "* Conduct Exploratory Data Analysis of the text\n",
    "* Use sentiment analysis to explore differences between legislators' tweets\n",
    "* Featurize text with manual feature engineering, frequency-based, and vector-based techniques\n",
    "* Predict legislators' political parties and whether they are a Senator or Representative\n",
    "\n",
    "You will explore two questions that relate to two central findings in political science and examine how they relate to the text of legislators' tweets. First, political scientists have argued that U.S. politics is currently highly polarized relative to other periods in American history, but also that the polarization is asymmetric. Historically, there were several conservative Democrats (i.e. \"blue dog Democrats\") and liberal Republicans (i.e. \"Rockefeller Republicans\"), as measured by popular measurement tools like [DW-NOMINATE](https://en.wikipedia.org/wiki/NOMINATE_(scaling_method)#:~:text=DW\\%2DNOMINATE\\%20scores\\%20have\\%20been,in\\%20the\\%20liberal\\%2Dconservative\\%20scale.). However, in the last few years, there are few if any examples of any Democrat in Congress being further to the right than any Republican and vice versa. At the same time, scholars have argued that this polarization is mostly a function of the Republican party moving further right than the Democratic party has moved left. **Does this sort of asymmetric polarization show up in how politicians communicate to their constituents through tweets?**\n",
    "\n",
    "Second, the U.S. Congress is a bicameral legislature, and there has long been debate about partisanship in the Senate versus the House. The House of Representatives is apportioned by population and all members serve two year terms. In the Senate, each state receives two Senators and each Senator serves a term of six years. For a variety of reasons (smaller chamber size, more insulation from the voters, rules and norms like the filibuster, etc.), the Senate has been argued to be the \"cooling saucer\" of Congress in that it is more bipartisan and moderate than the House. **Does the theory that the Senate is more moderate have support in Senators' tweets?**\n",
    "\n",
    "**Note**: See the project handout for more details on caveats and the data dictionary."
   ]
  },
  {
   "cell_type": "code",
   "execution_count": 49,
   "metadata": {},
   "outputs": [],
   "source": [
    "# pandas and numpy\n",
    "import pandas as pd\n",
    "import numpy as np\n",
    "\n",
    "# punctuation, stop words and English language model\n",
    "from string import punctuation\n",
    "from spacy.lang.en.stop_words import STOP_WORDS\n",
    "import en_core_web_sm\n",
    "nlp = en_core_web_sm.load()\n",
    "\n",
    "# textblob\n",
    "from textblob import TextBlob\n",
    "\n",
    "# countvectorizer, tfidfvectorizer\n",
    "from sklearn.feature_extraction.text import CountVectorizer, TfidfVectorizer\n",
    "from sklearn.decomposition import LatentDirichletAllocation\n",
    "\n",
    "# gensim\n",
    "import gensim\n",
    "from gensim import models\n",
    "\n",
    "# plotting\n",
    "import matplotlib.pyplot as plt\n",
    "import seaborn as sns\n",
    "%matplotlib inline"
   ]
  },
  {
   "cell_type": "code",
   "execution_count": 32,
   "metadata": {},
   "outputs": [
    {
     "data": {
      "text/html": [
       "<div>\n",
       "<style scoped>\n",
       "    .dataframe tbody tr th:only-of-type {\n",
       "        vertical-align: middle;\n",
       "    }\n",
       "\n",
       "    .dataframe tbody tr th {\n",
       "        vertical-align: top;\n",
       "    }\n",
       "\n",
       "    .dataframe thead th {\n",
       "        text-align: right;\n",
       "    }\n",
       "</style>\n",
       "<table border=\"1\" class=\"dataframe\">\n",
       "  <thead>\n",
       "    <tr style=\"text-align: right;\">\n",
       "      <th></th>\n",
       "      <th>tweet_id</th>\n",
       "      <th>screen_name</th>\n",
       "      <th>datetime</th>\n",
       "      <th>text</th>\n",
       "      <th>name_wikipedia</th>\n",
       "      <th>position</th>\n",
       "      <th>joined_congress_date</th>\n",
       "      <th>birthday</th>\n",
       "      <th>gender</th>\n",
       "      <th>state</th>\n",
       "      <th>district_number</th>\n",
       "      <th>party</th>\n",
       "      <th>trump_2016_state_share</th>\n",
       "      <th>clinton_2016_state_share</th>\n",
       "      <th>obama_2012_state_share</th>\n",
       "      <th>romney_2012_state_share</th>\n",
       "    </tr>\n",
       "  </thead>\n",
       "  <tbody>\n",
       "    <tr>\n",
       "      <th>587409</th>\n",
       "      <td>1.247310e+18</td>\n",
       "      <td>SenSchumer</td>\n",
       "      <td>2020-04-06T19:56:42-04:00</td>\n",
       "      <td>If President Trump is saying that America’s go...</td>\n",
       "      <td>Chuck Schumer</td>\n",
       "      <td>Sen</td>\n",
       "      <td>3-Jan-17</td>\n",
       "      <td>11/23/1950</td>\n",
       "      <td>M</td>\n",
       "      <td>NY</td>\n",
       "      <td>Senate</td>\n",
       "      <td>Democrat</td>\n",
       "      <td>2,819,533</td>\n",
       "      <td>4,556,118</td>\n",
       "      <td>4,485,741</td>\n",
       "      <td>2,490,431</td>\n",
       "    </tr>\n",
       "    <tr>\n",
       "      <th>406099</th>\n",
       "      <td>1.270070e+18</td>\n",
       "      <td>SenWarren</td>\n",
       "      <td>2020-06-08T14:54:49-04:00</td>\n",
       "      <td>RT @GKButterfield Police officers must be acco...</td>\n",
       "      <td>Elizabeth Warren</td>\n",
       "      <td>Sen</td>\n",
       "      <td>3-Jan-13</td>\n",
       "      <td>6/22/1949</td>\n",
       "      <td>F</td>\n",
       "      <td>MA</td>\n",
       "      <td>Senate</td>\n",
       "      <td>Democrat</td>\n",
       "      <td>1,090,893</td>\n",
       "      <td>1,995,196</td>\n",
       "      <td>1,921,290</td>\n",
       "      <td>1,188,314</td>\n",
       "    </tr>\n",
       "    <tr>\n",
       "      <th>171618</th>\n",
       "      <td>1.285280e+18</td>\n",
       "      <td>RepPerlmutter</td>\n",
       "      <td>2020-07-20T14:43:50-04:00</td>\n",
       "      <td>RT @NatlHeroesDay It's #NationalHeroesDay! @Re...</td>\n",
       "      <td>Ed Perlmutter</td>\n",
       "      <td>Rep</td>\n",
       "      <td>3-Jan-07</td>\n",
       "      <td>5/1/1953</td>\n",
       "      <td>M</td>\n",
       "      <td>CO</td>\n",
       "      <td>7</td>\n",
       "      <td>Democrat</td>\n",
       "      <td>1,202,484</td>\n",
       "      <td>1,338,870</td>\n",
       "      <td>1,323,102</td>\n",
       "      <td>1,185,243</td>\n",
       "    </tr>\n",
       "    <tr>\n",
       "      <th>231457</th>\n",
       "      <td>1.236450e+18</td>\n",
       "      <td>RepMichaelWaltz</td>\n",
       "      <td>2020-03-07T19:50:23-05:00</td>\n",
       "      <td>.@HealthyFla has announced a presumptive posit...</td>\n",
       "      <td>Michael Waltz</td>\n",
       "      <td>Rep</td>\n",
       "      <td>3-Jan-19</td>\n",
       "      <td>1/31/1974</td>\n",
       "      <td>M</td>\n",
       "      <td>FL</td>\n",
       "      <td>6</td>\n",
       "      <td>Republican</td>\n",
       "      <td>4,617,886</td>\n",
       "      <td>4,504,975</td>\n",
       "      <td>4,237,756</td>\n",
       "      <td>4,163,447</td>\n",
       "    </tr>\n",
       "    <tr>\n",
       "      <th>676960</th>\n",
       "      <td>1.098700e+18</td>\n",
       "      <td>SenBobCasey</td>\n",
       "      <td>2019-02-21T16:35:33-05:00</td>\n",
       "      <td>The President’s egregious use of a national em...</td>\n",
       "      <td>Bob Casey Jr.</td>\n",
       "      <td>Sen</td>\n",
       "      <td>3-Jan-07</td>\n",
       "      <td>4/13/1960</td>\n",
       "      <td>M</td>\n",
       "      <td>PA</td>\n",
       "      <td>Senate</td>\n",
       "      <td>Democrat</td>\n",
       "      <td>2,970,733</td>\n",
       "      <td>2,926,441</td>\n",
       "      <td>2,990,274</td>\n",
       "      <td>2,680,434</td>\n",
       "    </tr>\n",
       "  </tbody>\n",
       "</table>\n",
       "</div>"
      ],
      "text/plain": [
       "            tweet_id      screen_name                   datetime  \\\n",
       "587409  1.247310e+18       SenSchumer  2020-04-06T19:56:42-04:00   \n",
       "406099  1.270070e+18        SenWarren  2020-06-08T14:54:49-04:00   \n",
       "171618  1.285280e+18    RepPerlmutter  2020-07-20T14:43:50-04:00   \n",
       "231457  1.236450e+18  RepMichaelWaltz  2020-03-07T19:50:23-05:00   \n",
       "676960  1.098700e+18      SenBobCasey  2019-02-21T16:35:33-05:00   \n",
       "\n",
       "                                                     text    name_wikipedia  \\\n",
       "587409  If President Trump is saying that America’s go...     Chuck Schumer   \n",
       "406099  RT @GKButterfield Police officers must be acco...  Elizabeth Warren   \n",
       "171618  RT @NatlHeroesDay It's #NationalHeroesDay! @Re...     Ed Perlmutter   \n",
       "231457  .@HealthyFla has announced a presumptive posit...     Michael Waltz   \n",
       "676960  The President’s egregious use of a national em...     Bob Casey Jr.   \n",
       "\n",
       "       position joined_congress_date    birthday gender state district_number  \\\n",
       "587409      Sen             3-Jan-17  11/23/1950      M    NY          Senate   \n",
       "406099      Sen             3-Jan-13   6/22/1949      F    MA          Senate   \n",
       "171618      Rep             3-Jan-07    5/1/1953      M    CO               7   \n",
       "231457      Rep             3-Jan-19   1/31/1974      M    FL               6   \n",
       "676960      Sen             3-Jan-07   4/13/1960      M    PA          Senate   \n",
       "\n",
       "             party trump_2016_state_share clinton_2016_state_share  \\\n",
       "587409    Democrat              2,819,533                4,556,118   \n",
       "406099    Democrat              1,090,893                1,995,196   \n",
       "171618    Democrat              1,202,484                1,338,870   \n",
       "231457  Republican              4,617,886                4,504,975   \n",
       "676960    Democrat              2,970,733                2,926,441   \n",
       "\n",
       "       obama_2012_state_share romney_2012_state_share  \n",
       "587409              4,485,741               2,490,431  \n",
       "406099              1,921,290               1,188,314  \n",
       "171618              1,323,102               1,185,243  \n",
       "231457              4,237,756               4,163,447  \n",
       "676960              2,990,274               2,680,434  "
      ]
     },
     "execution_count": 32,
     "metadata": {},
     "output_type": "execute_result"
    }
   ],
   "source": [
    "congress_tweets = pd.read_csv(\"data/116th Congressional Tweets and Demographics.csv\")\n",
    "# fill in this line of code with a sufficient number of tweets, depending on your computational resources\n",
    "np.random.seed(53)\n",
    "congress_tweets = congress_tweets.sample(2000)\n",
    "congress_tweets.head()"
   ]
  },
  {
   "cell_type": "markdown",
   "metadata": {},
   "source": [
    "## Preprocessing"
   ]
  },
  {
   "cell_type": "markdown",
   "metadata": {},
   "source": [
    "The first step in working with text data is to preprocess it. Make sure you do the following:\n",
    "\n",
    "* Remove punctuation and stop words. The `rem_punc_stop()` function we used in lab is provided to you but you should feel free to edit it as necessary for other steps\n",
    "* Remove tokens that occur frequently in tweets, but may not be helpful for downstream classification. For instance, many tweets contain a flag for retweeting, or share a URL \n",
    "\n",
    "As you search online, you might run into solutions that rely on regular expressions. You are free to use these, but you should also be able to preprocess using the techniques we covered in lab. Specifically, we encourage you to use spaCy's token attributes and string methods to do some of this text preprocessing."
   ]
  },
  {
   "cell_type": "code",
   "execution_count": 73,
   "metadata": {},
   "outputs": [],
   "source": [
    "import re\n",
    "\n",
    "def rem_punc_stop(text):\n",
    "    stop_words = STOP_WORDS\n",
    "    nlp.Defaults.stop_words |= {\"RT\", '\\n', '“', '”', '—', '–', '✅', 'today', 'QT'}\n",
    "    punc = set(punctuation)\n",
    "    punc.remove('&') # '&' on Twitter is scraped as '&amp'\n",
    "    \n",
    "    fix_text = re.sub(r\"&amp\", \"and\", text) #replace all '&and' with 'and'\n",
    "    \n",
    "    punc_free = \"\".join([ch for ch in fix_text if ch not in punc])\n",
    "    \n",
    "    doc = nlp(punc_free)\n",
    "    \n",
    "    spacy_words = [token.text for token in doc]\n",
    "    \n",
    "    spacy_words = [word for word in spacy_words if not word.startswith('http')]\n",
    "    \n",
    "    no_punc = [word for word in spacy_words if word not in stop_words]\n",
    "    \n",
    "    return no_punc"
   ]
  },
  {
   "cell_type": "markdown",
   "metadata": {},
   "source": [
    "## Exploratory Data Analysis"
   ]
  },
  {
   "cell_type": "markdown",
   "metadata": {},
   "source": [
    "Use two of the techniques we covered in lab (or other techniques outside of lab!) to explore the text of the tweets. You should construct these visualizations with an eye toward the eventual classification tasks: (1) predicting the legislator's political party based on the text of their tweet, and (2) predicting whether the legislator is a Senator or Representative. As a reminder, in lab we covered word frequencies, word clouds, word/character counts, scattertext, and topic modeling as possible exploration tools. "
   ]
  },
  {
   "cell_type": "code",
   "execution_count": 74,
   "metadata": {},
   "outputs": [
    {
     "data": {
      "text/plain": [
       "587409    If President Trump saying America governors te...\n",
       "406099    GKButterfield Police officers accountable comm...\n",
       "171618    NatlHeroesDay Its NationalHeroesDay RepPerlmut...\n",
       "231457    HealthyFla announced presumptive positive case...\n",
       "676960    The President egregious use national emergency...\n",
       "                                ...                        \n",
       "740099    Out control dangerous Forget CONSTITUTION look...\n",
       "776342    combine city resources residents safer places ...\n",
       "614924    This morning I privilege engaging QandA collea...\n",
       "881025    Today I joined RepCohen introducing resolution...\n",
       "638039    Happening TOMORROW My office informational tab...\n",
       "Name: tokens, Length: 2000, dtype: object"
      ]
     },
     "execution_count": 74,
     "metadata": {},
     "output_type": "execute_result"
    }
   ],
   "source": [
    "congress_tweets['tokens'] = congress_tweets['text'].apply(lambda x: rem_punc_stop(x))\n",
    "congress_tweets['tokens'] = congress_tweets['tokens'].map(lambda text: ' '.join(text))\n",
    "congress_tweets['tokens']"
   ]
  },
  {
   "cell_type": "markdown",
   "metadata": {},
   "source": [
    "### EDA 1: n-grams"
   ]
  },
  {
   "cell_type": "code",
   "execution_count": 78,
   "metadata": {},
   "outputs": [
    {
     "name": "stderr",
     "output_type": "stream",
     "text": [
      "C:\\Users\\atarv\\Anaconda3\\lib\\site-packages\\sklearn\\feature_extraction\\text.py:388: UserWarning: Your stop_words may be inconsistent with your preprocessing. Tokenizing the stop words generated tokens ['ll', 'qt', 'rt', 've'] not in stop_words.\n",
      "  warnings.warn('Your stop_words may be inconsistent with '\n"
     ]
    },
    {
     "data": {
      "text/html": [
       "<div>\n",
       "<style scoped>\n",
       "    .dataframe tbody tr th:only-of-type {\n",
       "        vertical-align: middle;\n",
       "    }\n",
       "\n",
       "    .dataframe tbody tr th {\n",
       "        vertical-align: top;\n",
       "    }\n",
       "\n",
       "    .dataframe thead th {\n",
       "        text-align: right;\n",
       "    }\n",
       "</style>\n",
       "<table border=\"1\" class=\"dataframe\">\n",
       "  <thead>\n",
       "    <tr style=\"text-align: right;\">\n",
       "      <th></th>\n",
       "      <th>ngrams</th>\n",
       "      <th>freq</th>\n",
       "    </tr>\n",
       "  </thead>\n",
       "  <tbody>\n",
       "    <tr>\n",
       "      <th>0</th>\n",
       "      <td>trump</td>\n",
       "      <td>196</td>\n",
       "    </tr>\n",
       "    <tr>\n",
       "      <th>1</th>\n",
       "      <td>president</td>\n",
       "      <td>179</td>\n",
       "    </tr>\n",
       "    <tr>\n",
       "      <th>2</th>\n",
       "      <td>people</td>\n",
       "      <td>170</td>\n",
       "    </tr>\n",
       "    <tr>\n",
       "      <th>3</th>\n",
       "      <td>act</td>\n",
       "      <td>166</td>\n",
       "    </tr>\n",
       "    <tr>\n",
       "      <th>4</th>\n",
       "      <td>covid19</td>\n",
       "      <td>162</td>\n",
       "    </tr>\n",
       "  </tbody>\n",
       "</table>\n",
       "</div>"
      ],
      "text/plain": [
       "      ngrams  freq\n",
       "0      trump   196\n",
       "1  president   179\n",
       "2     people   170\n",
       "3        act   166\n",
       "4    covid19   162"
      ]
     },
     "execution_count": 78,
     "metadata": {},
     "output_type": "execute_result"
    }
   ],
   "source": [
    "# Initialize the BOW countervectorizer\n",
    "## Notice the ngram_range argument\n",
    "countvec = CountVectorizer(stop_words = STOP_WORDS, ngram_range=(1,1))\n",
    "ngrams = countvec.fit_transform(congress_tweets['tokens'])\n",
    "\n",
    "dictionary_dataframe = pd.DataFrame(ngrams.todense(), columns = countvec.get_feature_names())\n",
    "\n",
    "df_ngram = pd.DataFrame(dictionary_dataframe.sum().reset_index()).rename(columns={'index': 'ngrams', 0:'freq'})\n",
    "df_ngram = df_ngram.sort_values(by = ['freq'], ascending = False).reset_index(drop = True)\n",
    "df_ngram.head()"
   ]
  },
  {
   "cell_type": "code",
   "execution_count": 79,
   "metadata": {},
   "outputs": [
    {
     "data": {
      "image/png": "[encoded data removed]",
      "text/plain": [
       "<Figure size 432x288 with 1 Axes>"
      ]
     },
     "metadata": {
      "needs_background": "light"
     },
     "output_type": "display_data"
    }
   ],
   "source": [
    "sns.barplot(x=\"ngrams\", y = 'freq', data=df_ngram[0:25])\n",
    "plt.xticks(rotation=90)\n",
    "plt.show()"
   ]
  },
  {
   "cell_type": "markdown",
   "metadata": {},
   "source": [
    "### EDA 2: Topic modelling"
   ]
  },
  {
   "cell_type": "code",
   "execution_count": 77,
   "metadata": {},
   "outputs": [
    {
     "name": "stdout",
     "output_type": "stream",
     "text": [
      "\n",
      "Topic #0:\n",
      "\n",
      "\n",
      "  trump president    americans help bill thank congress people covid19 act new need america vote coronavirus country communities let\n",
      "\n",
      "Topic #1:\n",
      "\n",
      "\n",
      "  covid19 state trump community president work    people congress coronavirus support federal great honor city access security protect home\n",
      "\n",
      "Topic #2:\n",
      "\n",
      "\n",
      "  care health people americans need    act workers ️ covid19 community time work american right thank local trump president\n",
      "\n",
      "Topic #3:\n",
      "\n",
      "\n",
      "  house    senate president new democrats act trump bill support american need health covid19 like help know time veterans\n",
      "\n",
      "Topic #4:\n",
      "\n",
      "\n",
      "     american people help thank proud national americans trump house president work news \n",
      "\n",
      " time act congress covid19 important\n",
      "\n"
     ]
    }
   ],
   "source": [
    "X = congress_tweets['tokens']\n",
    "tf = TfidfVectorizer(tokenizer = rem_punc_stop)\n",
    "\n",
    "tfidf_matrix =  tf.fit_transform(X)\n",
    "dense_matrix = tfidf_matrix.todense()\n",
    "\n",
    "lda = LatentDirichletAllocation(n_components=5, max_iter=20, random_state=0)\n",
    "lda = lda.fit(dense_matrix)\n",
    "\n",
    "def print_top_words(model, feature_names, n_top_words):\n",
    "    for topic_idx, topic in enumerate(model.components_):\n",
    "        print(\"\\nTopic #{}:\".format(topic_idx))\n",
    "        print(\" \".join([feature_names[i]\n",
    "                        for i in topic.argsort()[:-n_top_words - 1:-1]]))\n",
    "    print()\n",
    "\n",
    "tf_feature_names = tf.get_feature_names()\n",
    "print_top_words(lda, tf_feature_names, 20)"
   ]
  },
  {
   "cell_type": "markdown",
   "metadata": {},
   "source": [
    "## Sentiment Analysis"
   ]
  },
  {
   "cell_type": "markdown",
   "metadata": {},
   "source": [
    "Next, let's analyze the sentiments contained within the tweets. You may use TextBlob or another library for these tasks. Do the following:\n",
    "\n",
    "* Choose two legislators, one who you think will be more liberal and one who you think will be more conservative, and analyze their sentiment and/or subjectivity scores per tweet. For instance, you might do two scatterplots that plot each legislator's sentiment against their subjectivity, or two density plots for their sentiments. Do the scores match what you thought?\n",
    "* Plot two more visualizations like the ones you chose in the first part, but do them to compare (1) Democrats v. Republicans and (2) Senators v. Representatives \n",
    "\n",
    "`TextBlob` has already been imported in the top cell."
   ]
  },
  {
   "cell_type": "code",
   "execution_count": null,
   "metadata": {},
   "outputs": [],
   "source": []
  },
  {
   "cell_type": "markdown",
   "metadata": {},
   "source": [
    "## Featurization"
   ]
  },
  {
   "cell_type": "markdown",
   "metadata": {},
   "source": [
    "Before going to classification, explore different featurization techniques. Create three dataframes or arrays to represent your text features, specifically:\n",
    "\n",
    "* Features engineered from your previous analysis. For example, word counts, sentiment scores, topic model etc.\n",
    "* A term frequency-inverse document frequency matrix. \n",
    "* An embedding-based featurization (like a document averaged word2vec)\n",
    "\n",
    "In the next section, you will experiment with each of these featurization techniques to see which one produces the best classifications."
   ]
  },
  {
   "cell_type": "code",
   "execution_count": null,
   "metadata": {},
   "outputs": [],
   "source": []
  },
  {
   "cell_type": "markdown",
   "metadata": {},
   "source": [
    "### Engineered Text Features"
   ]
  },
  {
   "cell_type": "code",
   "execution_count": null,
   "metadata": {},
   "outputs": [],
   "source": [
    "# Engineered Features\n",
    "..."
   ]
  },
  {
   "cell_type": "markdown",
   "metadata": {},
   "source": [
    "### Bag-of-words or Tf-idf"
   ]
  },
  {
   "cell_type": "code",
   "execution_count": null,
   "metadata": {},
   "outputs": [],
   "source": [
    "# Frequency Based featurization\n",
    "..."
   ]
  },
  {
   "cell_type": "markdown",
   "metadata": {},
   "source": [
    "### Word Embedding"
   ]
  },
  {
   "cell_type": "code",
   "execution_count": null,
   "metadata": {},
   "outputs": [],
   "source": [
    "# Load Word2Vec model from Google; OPTIONAL depending on your computational resources (the file is ~1 GB)\n",
    "# Also note that this file path assumes that the word vectors are underneath 'data'; you may wish to point to the CSS course repo and change the path\n",
    "# or move the vector file to the project repo \n",
    "\n",
    "#model = gensim.models.KeyedVectors.load_word2vec_format('data/GoogleNews-vectors-negative300.bin.gz', binary = True) "
   ]
  },
  {
   "cell_type": "code",
   "execution_count": null,
   "metadata": {},
   "outputs": [],
   "source": [
    "# Function to average word embeddings for a document; use examples from lab to apply this function. You can use also other techniques such as PCA and doc2vec instead.\n",
    "def document_vector(word2vec_model, doc):\n",
    "    doc = [word for word in doc if word in model.vocab]\n",
    "    return np.mean(model[doc], axis=0)"
   ]
  },
  {
   "cell_type": "code",
   "execution_count": null,
   "metadata": {},
   "outputs": [],
   "source": [
    "# embedding based featurization\n",
    "..."
   ]
  },
  {
   "cell_type": "markdown",
   "metadata": {},
   "source": [
    "## Classification"
   ]
  },
  {
   "cell_type": "markdown",
   "metadata": {},
   "source": [
    "Either use cross-validation or partition your data with training/validation/test sets for this section. Do the following:\n",
    "\n",
    "* Choose a supervised learning algorithm such as logistic regression, random forest etc. \n",
    "* Train six models. For each of the three dataframes you created in the featurization part, train one model to predict whether the author of the tweet is a Democrat or Republican, and a second model to predict whether the author is a Senator or Representative.\n",
    "* Report the accuracy and other relevant metrics for each of these six models.\n",
    "* Choose the featurization technique associated with your best model. Combine those text features with non-text features. Train two more models: (1) A supervised learning algorithm that uses just the non-text features and (2) a supervised learning algorithm that combines text and non-text features. Report accuracy and other relevant metrics. \n",
    "\n",
    "If time permits, you are encouraged to use hyperparameter tuning or AutoML techniques like TPOT, but are not explicitly required to do so."
   ]
  },
  {
   "cell_type": "markdown",
   "metadata": {},
   "source": [
    "### Train Six Models with Just Text"
   ]
  },
  {
   "cell_type": "code",
   "execution_count": null,
   "metadata": {},
   "outputs": [],
   "source": [
    "# six models ([engineered features, frequency-based, embedding] * [democrat/republican, senator/representative])\n",
    "..."
   ]
  },
  {
   "cell_type": "markdown",
   "metadata": {},
   "source": [
    "### Two Combined Models"
   ]
  },
  {
   "cell_type": "code",
   "execution_count": null,
   "metadata": {},
   "outputs": [],
   "source": [
    "# two models ([best text features + non-text features] * [democrat/republican, senator/representative])\n",
    "..."
   ]
  },
  {
   "cell_type": "markdown",
   "metadata": {},
   "source": [
    "## Discussion Questions"
   ]
  },
  {
   "cell_type": "markdown",
   "metadata": {},
   "source": [
    "1. Why do standard preprocessing techniques need to be further customized to a particular corpus?"
   ]
  },
  {
   "cell_type": "markdown",
   "metadata": {},
   "source": [
    "**Your Answer Here**"
   ]
  },
  {
   "cell_type": "markdown",
   "metadata": {},
   "source": [
    "2. Did you find evidence for the idea that Democrats and Republicans have different sentiments in their tweets? What about Senators and Representatives?"
   ]
  },
  {
   "cell_type": "markdown",
   "metadata": {},
   "source": [
    "**Your Answer Here**"
   ]
  },
  {
   "cell_type": "markdown",
   "metadata": {},
   "source": [
    "3. Why is validating your exploratory and unsupervised learning approaches with a supervised learning algorithm valuable?"
   ]
  },
  {
   "cell_type": "markdown",
   "metadata": {},
   "source": [
    "**Your Answer Here**"
   ]
  },
  {
   "cell_type": "markdown",
   "metadata": {},
   "source": [
    "4. Did text only, non-text only, or text and non-text features together perform the best? What is the intuition behind combining text and non-text features in a supervised learning algorithm?"
   ]
  },
  {
   "cell_type": "markdown",
   "metadata": {},
   "source": [
    "**Your Answer Here**"
   ]
  }
 ],
 "metadata": {
  "kernelspec": {
   "display_name": "Python 3",
   "language": "python",
   "name": "python3"
  },
  "language_info": {
   "codemirror_mode": {
    "name": "ipython",
    "version": 3
   },
   "file_extension": ".py",
   "mimetype": "text/x-python",
   "name": "python",
   "nbconvert_exporter": "python",
   "pygments_lexer": "ipython3",
   "version": "3.8.8"
  }
 },
 "nbformat": 4,
 "nbformat_minor": 4
}
